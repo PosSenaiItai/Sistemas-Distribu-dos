{
 "cells": [
  {
   "cell_type": "code",
   "execution_count": null,
   "id": "483ea5b2-ff3f-4b28-a752-5a457f6b392f",
   "metadata": {},
   "outputs": [],
   "source": [
    "import socket\n",
    "\n",
    "def hello(name):\n",
    "    return f\"Olá, {name}!\"\n",
    "\n",
    "with socket.socket(socket.AF_INET, socket.SOCK_STREAM) as s:\n",
    "    s.bind((\"0.0.0.0\", 8080))\n",
    "    s.listen(1)\n",
    "\n",
    "    conn, addr = s.accept()\n",
    "\n",
    "    data = conn.recv(1024)\n",
    "    name = data.decode(\"utf-8\")\n",
    "\n",
    "    response = hello(name)\n",
    "\n",
    "    conn.sendall(response.encode(\"utf-8\"))\n",
    "    conn.close()\n"
   ]
  }
 ],
 "metadata": {
  "kernelspec": {
   "display_name": "Python 3 (ipykernel)",
   "language": "python",
   "name": "python3"
  },
  "language_info": {
   "codemirror_mode": {
    "name": "ipython",
    "version": 3
   },
   "file_extension": ".py",
   "mimetype": "text/x-python",
   "name": "python",
   "nbconvert_exporter": "python",
   "pygments_lexer": "ipython3",
   "version": "3.9.13"
  }
 },
 "nbformat": 4,
 "nbformat_minor": 5
}
